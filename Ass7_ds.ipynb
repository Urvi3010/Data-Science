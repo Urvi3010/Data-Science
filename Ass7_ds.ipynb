{
 "cells": [
  {
   "cell_type": "markdown",
   "id": "e74509ab",
   "metadata": {},
   "source": [
    "Text Analytics\n",
    "1. Extract Sample document and apply following document preprocessing methods:\n",
    "Tokenization, POS Tagging, stop words removal, Stemming and Lemmatization.\n",
    "2. Create representation of documents by calculating Term Frequency and Inverse\n",
    "DocumentFrequency."
   ]
  },
  {
   "cell_type": "code",
   "execution_count": 14,
   "id": "aa3c5c97-8191-4a8c-8ae2-dd90723c4d48",
   "metadata": {},
   "outputs": [],
   "source": [
    "import nltk\n",
    "from nltk.tokenize import sent_tokenize, word_tokenize\n",
    "from nltk.stem import PorterStemmer, WordNetLemmatizer\n",
    "from nltk.corpus import stopwords\n",
    "import re\n",
    "from nltk import pos_tag\n",
    "from sklearn.feature_extraction.text import TfidfVectorizer"
   ]
  },
  {
   "cell_type": "code",
   "execution_count": 15,
   "id": "de58e746-26a5-4f06-a291-c88c5a7daf60",
   "metadata": {},
   "outputs": [
    {
     "name": "stderr",
     "output_type": "stream",
     "text": [
      "[nltk_data] Downloading package punkt_tab to\n",
      "[nltk_data]     C:\\Users\\Urvi\\AppData\\Roaming\\nltk_data...\n",
      "[nltk_data]   Package punkt_tab is already up-to-date!\n",
      "[nltk_data] Downloading package stopwords to\n",
      "[nltk_data]     C:\\Users\\Urvi\\AppData\\Roaming\\nltk_data...\n",
      "[nltk_data]   Package stopwords is already up-to-date!\n",
      "[nltk_data] Downloading package wordnet to\n",
      "[nltk_data]     C:\\Users\\Urvi\\AppData\\Roaming\\nltk_data...\n",
      "[nltk_data]   Package wordnet is already up-to-date!\n",
      "[nltk_data] Downloading package averaged_perceptron_tagger_eng to\n",
      "[nltk_data]     C:\\Users\\Urvi\\AppData\\Roaming\\nltk_data...\n",
      "[nltk_data]   Package averaged_perceptron_tagger_eng is already up-to-\n",
      "[nltk_data]       date!\n",
      "[nltk_data] Downloading package omw-1.4 to\n",
      "[nltk_data]     C:\\Users\\Urvi\\AppData\\Roaming\\nltk_data...\n",
      "[nltk_data]   Package omw-1.4 is already up-to-date!\n"
     ]
    },
    {
     "data": {
      "text/plain": [
       "True"
      ]
     },
     "execution_count": 15,
     "metadata": {},
     "output_type": "execute_result"
    }
   ],
   "source": [
    "nltk.download('punkt_tab')\n",
    "nltk.download('stopwords')\n",
    "nltk.download('wordnet')\n",
    "nltk.download('averaged_perceptron_tagger_eng')\n",
    "nltk.download('omw-1.4')\n"
   ]
  },
  {
   "cell_type": "code",
   "execution_count": 16,
   "id": "cbbcec51-7053-403a-8281-51aa90ad3a8d",
   "metadata": {},
   "outputs": [],
   "source": [
    "text = \"I love to program in python. Python is great for data science. I enjoy learning new things about data.\""
   ]
  },
  {
   "cell_type": "code",
   "execution_count": 17,
   "id": "e42193c2-b573-4e99-940b-a3540ea91bd6",
   "metadata": {},
   "outputs": [
    {
     "name": "stdout",
     "output_type": "stream",
     "text": [
      "['I love to program in python.', 'Python is great for data science.', 'I enjoy learning new things about data.']\n"
     ]
    }
   ],
   "source": [
    "sentence = sent_tokenize(text)\n",
    "print(sentence)"
   ]
  },
  {
   "cell_type": "code",
   "execution_count": 18,
   "id": "df46ac8b-e58d-406a-830f-7126fa8e1d47",
   "metadata": {},
   "outputs": [
    {
     "name": "stdout",
     "output_type": "stream",
     "text": [
      "['I', 'love', 'to', 'program', 'in', 'python', '.', 'Python', 'is', 'great', 'for', 'data', 'science', '.', 'I', 'enjoy', 'learning', 'new', 'things', 'about', 'data', '.']\n"
     ]
    }
   ],
   "source": [
    "word = word_tokenize(text)\n",
    "print(word)"
   ]
  },
  {
   "cell_type": "code",
   "execution_count": 19,
   "id": "f113d396-ca31-4328-a6ea-fef8c146baf3",
   "metadata": {},
   "outputs": [
    {
     "name": "stdout",
     "output_type": "stream",
     "text": [
      "{\"he'll\", 'nor', \"we'd\", 'its', 'just', 'hers', 'does', 'hadn', 'until', 'm', 'you', 'd', 'my', 'who', 'below', 'how', 'off', 'it', \"it'd\", 'more', \"i'm\", 'ourselves', 'before', \"aren't\", \"i'd\", 'such', 'is', 'being', 'once', \"needn't\", 'did', 'as', 'his', \"won't\", 'has', 'himself', 'above', 'all', 'myself', 'the', 'having', 'under', 'what', \"didn't\", 'why', \"they'd\", 'weren', \"shan't\", 'and', 'so', 'that', 'their', 'than', 'out', 'her', 'those', \"mightn't\", \"don't\", \"he'd\", 't', \"you'll\", 'for', 'now', 'will', \"wouldn't\", 'can', 'him', 'yourself', 'doing', \"you're\", 'very', 'doesn', \"hadn't\", 'after', 'our', 'needn', 'which', 'o', 'not', 'this', 'am', 'up', 'from', \"they're\", 'itself', 'down', 'couldn', 'against', 'hasn', 'no', 'y', 'he', \"isn't\", 'about', 'are', \"it'll\", 'only', 'an', 'isn', \"they've\", \"we're\", 'most', 've', 'some', 'over', 'there', 'few', 'wouldn', 'she', 'yours', 'themselves', 'i', 'when', 'at', 'haven', 'again', 'during', \"doesn't\", 'in', \"haven't\", 'these', \"hasn't\", 'ours', 'own', 'was', \"we've\", 'then', 'ain', 'me', 'we', 's', \"should've\", 'have', 'but', \"he's\", 'mightn', 'herself', 'each', 'been', 'further', 'your', 'wasn', 'on', 'too', 'theirs', \"you've\", 'don', \"wasn't\", 'if', \"i've\", 'with', \"couldn't\", 'same', 'where', 'by', 'any', 'ma', 'other', \"mustn't\", \"they'll\", \"weren't\", 'between', 'be', 'through', \"it's\", \"you'd\", 'a', 're', \"that'll\", 'to', \"we'll\", 'do', \"she's\", 'shouldn', \"she'll\", 'they', 'didn', 'yourselves', 'mustn', 'were', 'won', 'shan', 'because', \"i'll\", 'here', \"shouldn't\", 'them', \"she'd\", 'whom', 'aren', 'or', 'll', 'into', 'of', 'should', 'while', 'had', 'both'}\n"
     ]
    }
   ],
   "source": [
    "stopword = set(stopwords.words('english'))\n",
    "print(stopword)"
   ]
  },
  {
   "cell_type": "code",
   "execution_count": 20,
   "id": "83ed3f6d-a8ce-44d3-aaac-27eb29db37aa",
   "metadata": {},
   "outputs": [
    {
     "name": "stdout",
     "output_type": "stream",
     "text": [
      "Original Text:  ['i', 'love', 'to', 'program', 'in', 'python', 'python', 'is', 'great', 'for', 'data', 'science', 'i', 'enjoy', 'learning', 'new', 'things', 'about', 'data']\n",
      "Filtered Text:  ['love', 'program', 'python', 'python', 'great', 'data', 'science', 'enjoy', 'learning', 'new', 'things', 'data']\n"
     ]
    }
   ],
   "source": [
    "text=re.sub('[^a-zA-Z]',' ',text)\n",
    "text = word_tokenize(text.lower())\n",
    "filtered_text = []\n",
    "for w in text:\n",
    "    if w not in stopword:\n",
    "        filtered_text.append(w)\n",
    "print(\"Original Text: \",text)\n",
    "print(\"Filtered Text: \",filtered_text)"
   ]
  },
  {
   "cell_type": "code",
   "execution_count": 22,
   "id": "466cc488-fe1f-4d4a-a486-25225fe25511",
   "metadata": {},
   "outputs": [
    {
     "name": "stdout",
     "output_type": "stream",
     "text": [
      "wait : wait\n",
      "waited : wait\n",
      "waits : wait\n",
      "waiting : wait\n",
      "Original Words:  ['wait', 'waited', 'waits', 'waiting']\n"
     ]
    }
   ],
   "source": [
    "ps = PorterStemmer()\n",
    "stem_word = ['wait','waited','waits','waiting']\n",
    "for w in stem_word:\n",
    "    print(w, \":\", ps.stem(w))\n",
    "print(\"Original Words: \",stem_word)\n"
   ]
  },
  {
   "cell_type": "code",
   "execution_count": 34,
   "id": "8aeb185b-dc88-4556-a0a2-310bb9110fc0",
   "metadata": {},
   "outputs": [
    {
     "name": "stdout",
     "output_type": "stream",
     "text": [
      "Lemma for studing is studing\n",
      "Lemma for studies is study\n",
      "Lemma for crying is cry\n",
      "Lemma for cries is cry\n"
     ]
    }
   ],
   "source": [
    "lematizer = WordNetLemmatizer()\n",
    "texts = \"studing studies crying cries\"\n",
    "tokenizer = word_tokenize(texts)\n",
    "for w in tokenizer:\n",
    "    print(\"Lemma for {} is {}\".format(w, lemmatizer.lemmatize(w)))"
   ]
  },
  {
   "cell_type": "code",
   "execution_count": 40,
   "id": "0725767c-4cf1-445c-a74f-0c8ac3628a69",
   "metadata": {},
   "outputs": [
    {
     "name": "stdout",
     "output_type": "stream",
     "text": [
      "[('The', 'DT')]\n",
      "[('pink', 'NN')]\n",
      "[('sweater', 'NN')]\n",
      "[('look', 'NN')]\n",
      "[('beautiful', 'NN')]\n",
      "[('on', 'IN')]\n",
      "[('her', 'PRP$')]\n"
     ]
    }
   ],
   "source": [
    "data = \"The pink sweater look beautiful on her\"\n",
    "token = word_tokenize(data)\n",
    "for w in token:\n",
    "    print(pos_tag([w]))"
   ]
  },
  {
   "cell_type": "code",
   "execution_count": 48,
   "id": "ace123a6-c7e5-41e4-a82c-c76e113f1fc7",
   "metadata": {},
   "outputs": [],
   "source": [
    "textx = \"Python is a coding language. It is used in data science and machine learning. I love coding in python language. I am gaining deep knowledge about this language.\""
   ]
  },
  {
   "cell_type": "code",
   "execution_count": 56,
   "id": "78395790-7741-4639-8f4c-e17022dff0a4",
   "metadata": {},
   "outputs": [
    {
     "name": "stdout",
     "output_type": "stream",
     "text": [
      "['python cod language', 'use data science machine learn', 'love cod python language', 'gain deep knowledge language']\n"
     ]
    }
   ],
   "source": [
    "wn = WordNetLemmatizer()\n",
    "texts = sent_tokenize(textx)\n",
    "corpus = []\n",
    "for i in range(len(texts)):\n",
    "    review = re.sub('[^a-zA-Z]', ' ', texts[i])\n",
    "    review = review.lower()\n",
    "    review = review.split()\n",
    "    review = (wn.lemmatize(word, pos = 'v') for word in review if word not in set(stopwords.words('english')))\n",
    "    review = ' '.join(review)\n",
    "    corpus.append(review)\n",
    "print(corpus)\n"
   ]
  },
  {
   "cell_type": "code",
   "execution_count": 57,
   "id": "bfd73d0f-8934-4e51-9bb1-abfb010e29f1",
   "metadata": {},
   "outputs": [
    {
     "name": "stdout",
     "output_type": "stream",
     "text": [
      "[[0.61366674 0.         0.         0.         0.         0.49681612\n",
      "  0.         0.         0.         0.61366674 0.         0.        ]\n",
      " [0.         0.4472136  0.         0.         0.         0.\n",
      "  0.4472136  0.         0.4472136  0.         0.4472136  0.4472136 ]\n",
      " [0.4842629  0.         0.         0.         0.         0.39205255\n",
      "  0.         0.61422608 0.         0.4842629  0.         0.        ]\n",
      " [0.         0.         0.5417361  0.5417361  0.5417361  0.34578314\n",
      "  0.         0.         0.         0.         0.         0.        ]]\n"
     ]
    }
   ],
   "source": [
    "tfidf = TfidfVectorizer()\n",
    "X = tfidf.fit_transform(corpus).toarray()\n",
    "print(X)"
   ]
  },
  {
   "cell_type": "code",
   "execution_count": null,
   "id": "93dcde30-7388-40b0-b52f-839e331c391f",
   "metadata": {},
   "outputs": [],
   "source": [
    "  "
   ]
  }
 ],
 "metadata": {
  "kernelspec": {
   "display_name": "Python 3 (ipykernel)",
   "language": "python",
   "name": "python3"
  },
  "language_info": {
   "codemirror_mode": {
    "name": "ipython",
    "version": 3
   },
   "file_extension": ".py",
   "mimetype": "text/x-python",
   "name": "python",
   "nbconvert_exporter": "python",
   "pygments_lexer": "ipython3",
   "version": "3.13.1"
  }
 },
 "nbformat": 4,
 "nbformat_minor": 5
}
